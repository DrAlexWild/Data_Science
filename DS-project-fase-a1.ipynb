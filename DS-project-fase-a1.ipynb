{
 "cells": [
  {
   "cell_type": "markdown",
   "id": "f6735f6b-3bec-4dd5-be2b-65f92440a26e",
   "metadata": {},
   "source": [
    "# Identification"
   ]
  },
  {
   "cell_type": "markdown",
   "id": "06b46940-63b1-4eb2-8cbe-ede8711ce7db",
   "metadata": {},
   "source": [
    "Student names and matriculation numbers\n",
    "\n",
    "*Add here*\n",
    "\n",
    "We declare that the code and analyses contained in this notebook were produced by ourselves and therefore were not copied from elsewhere."
   ]
  },
  {
   "cell_type": "markdown",
   "id": "612ae33d-f64c-425e-b358-edec0b4b743b",
   "metadata": {
    "tags": []
   },
   "source": [
    "---\n",
    "# Notes\n",
    "---\n",
    "When a code cell has the text `Your code here`, feel free to split it into more cells (code and/or markdown), if it is more convenient for you.\n"
   ]
  },
  {
   "cell_type": "markdown",
   "id": "b9a126b0-f428-459a-89bf-e6ec433744b5",
   "metadata": {
    "tags": []
   },
   "source": [
    "---\n",
    "# Preprocessing\n",
    "---"
   ]
  },
  {
   "cell_type": "markdown",
   "id": "740bb00f",
   "metadata": {},
   "source": [
    "**TO-DO P1**"
   ]
  },
  {
   "cell_type": "code",
   "execution_count": 1,
   "id": "a772e955-3f4d-4fcb-bf9b-d74585617376",
   "metadata": {},
   "outputs": [],
   "source": [
    "# Library imports\n",
    "\n",
    "# Your code here"
   ]
  },
  {
   "cell_type": "code",
   "execution_count": 2,
   "id": "16e4561c-d906-4365-8b0e-790fe64b54a0",
   "metadata": {},
   "outputs": [],
   "source": [
    "# Data imports\n",
    "# Data manipulation\n",
    "import pandas as pd\n",
    "import numpy as np\n",
    "import matplotlib.pyplot as plt\n",
    "\n",
    "# Data visualization\n",
    "import seaborn as sns\n",
    "import plotly.graph_objs as go\n",
    "from plotly.subplots import make_subplots\n",
    "\n",
    "sns.set_style(style='darkgrid')\n",
    "\n",
    "df = pd.read_csv('covid-data.csv')\n"
   ]
  },
  {
   "cell_type": "markdown",
   "id": "2bdf9e30",
   "metadata": {},
   "source": [
    "**TO-DO P2**"
   ]
  },
  {
   "cell_type": "code",
   "execution_count": 5,
   "id": "1c2b9987-58ea-4dae-8e6a-db1eef1441b3",
   "metadata": {},
   "outputs": [],
   "source": [
    "# Understanding the data\n",
    "\n",
    "# FILL MARKDOWN CELL BELOW\n"
   ]
  },
  {
   "cell_type": "code",
   "execution_count": 22,
   "id": "188aa83b",
   "metadata": {
    "scrolled": true
   },
   "outputs": [
    {
     "name": "stdout",
     "output_type": "stream",
     "text": [
      "<class 'pandas.core.frame.DataFrame'>\n",
      "RangeIndex: 220336 entries, 0 to 220335\n",
      "Data columns (total 32 columns):\n",
      " #   Column                                 Non-Null Count   Dtype  \n",
      "---  ------                                 --------------   -----  \n",
      " 0   Unnamed: 0                             220336 non-null  int64  \n",
      " 1   continent                              207663 non-null  object \n",
      " 2   location                               220336 non-null  object \n",
      " 3   date                                   220336 non-null  object \n",
      " 4   new_cases                              211112 non-null  float64\n",
      " 5   new_deaths                             192215 non-null  float64\n",
      " 6   reproduction_rate                      166135 non-null  float64\n",
      " 7   icu_patients                           28050 non-null   float64\n",
      " 8   hosp_patients                          30819 non-null   float64\n",
      " 9   weekly_icu_admissions                  7125 non-null    float64\n",
      " 10  weekly_hosp_admissions_per_million     14188 non-null   float64\n",
      " 11  new_tests                              75403 non-null   float64\n",
      " 12  positive_rate                          95927 non-null   float64\n",
      " 13  total_vaccinations                     61724 non-null   float64\n",
      " 14  people_vaccinated_at_least_1_dose      59019 non-null   float64\n",
      " 15  people_fully_vaccinated                56261 non-null   float64\n",
      " 16  total_boosters                         32936 non-null   float64\n",
      " 17  new_vaccinations                       50758 non-null   float64\n",
      " 18  government_response_index              166168 non-null  float64\n",
      " 19  population                             219052 non-null  float64\n",
      " 20  population_density                     195670 non-null  float64\n",
      " 21  median_age                             181063 non-null  float64\n",
      " 22  aged_65_older                          179150 non-null  float64\n",
      " 23  aged_70_older                          180115 non-null  float64\n",
      " 24  gdp_per_capita                         180403 non-null  float64\n",
      " 25  extreme_poverty_prc                    117660 non-null  float64\n",
      " 26  cardiovasc_death_per_hundred_thousand  180584 non-null  float64\n",
      " 27  diabetes_pop_rate_aged_20_to_79        189833 non-null  float64\n",
      " 28  female_smokers_prc                     136795 non-null  float64\n",
      " 29  female_smokers_prc.1                   134922 non-null  float64\n",
      " 30  hospital_beds_per_thousand             160657 non-null  float64\n",
      " 31  life_expectancy                        205861 non-null  float64\n",
      "dtypes: float64(28), int64(1), object(3)\n",
      "memory usage: 53.8+ MB\n",
      "None\n",
      "       Unnamed: 0 continent location        date  new_cases  new_deaths  \\\n",
      "63533       63533       NaN   Europe  2020-01-23        0.0         0.0   \n",
      "63534       63534       NaN   Europe  2020-01-24        2.0         0.0   \n",
      "63535       63535       NaN   Europe  2020-01-25        1.0         0.0   \n",
      "63536       63536       NaN   Europe  2020-01-26        0.0         0.0   \n",
      "63537       63537       NaN   Europe  2020-01-27        1.0         0.0   \n",
      "...           ...       ...      ...         ...        ...         ...   \n",
      "64510       64510       NaN   Europe  2022-09-26   251859.0       426.0   \n",
      "64511       64511       NaN   Europe  2022-09-27   372887.0       701.0   \n",
      "64512       64512       NaN   Europe  2022-09-28   260367.0       473.0   \n",
      "64513       64513       NaN   Europe  2022-09-29   382340.0      1058.0   \n",
      "64514       64514       NaN   Europe  2022-09-30   252169.0       494.0   \n",
      "\n",
      "       reproduction_rate  icu_patients  hosp_patients  weekly_icu_admissions  \\\n",
      "63533                NaN           NaN            NaN                    NaN   \n",
      "63534                NaN           NaN            NaN                    NaN   \n",
      "63535                NaN           NaN            NaN                    NaN   \n",
      "63536                NaN           NaN            NaN                    NaN   \n",
      "63537                NaN           NaN            NaN                    NaN   \n",
      "...                  ...           ...            ...                    ...   \n",
      "64510                NaN           NaN            NaN                    NaN   \n",
      "64511                NaN           NaN            NaN                    NaN   \n",
      "64512                NaN           NaN            NaN                    NaN   \n",
      "64513                NaN           NaN            NaN                    NaN   \n",
      "64514                NaN           NaN            NaN                    NaN   \n",
      "\n",
      "       ...  aged_65_older  aged_70_older  gdp_per_capita  extreme_poverty_prc  \\\n",
      "63533  ...            NaN            NaN             NaN                  NaN   \n",
      "63534  ...            NaN            NaN             NaN                  NaN   \n",
      "63535  ...            NaN            NaN             NaN                  NaN   \n",
      "63536  ...            NaN            NaN             NaN                  NaN   \n",
      "63537  ...            NaN            NaN             NaN                  NaN   \n",
      "...    ...            ...            ...             ...                  ...   \n",
      "64510  ...            NaN            NaN             NaN                  NaN   \n",
      "64511  ...            NaN            NaN             NaN                  NaN   \n",
      "64512  ...            NaN            NaN             NaN                  NaN   \n",
      "64513  ...            NaN            NaN             NaN                  NaN   \n",
      "64514  ...            NaN            NaN             NaN                  NaN   \n",
      "\n",
      "       cardiovasc_death_per_hundred_thousand  diabetes_pop_rate_aged_20_to_79  \\\n",
      "63533                                    NaN                              NaN   \n",
      "63534                                    NaN                              NaN   \n",
      "63535                                    NaN                              NaN   \n",
      "63536                                    NaN                              NaN   \n",
      "63537                                    NaN                              NaN   \n",
      "...                                      ...                              ...   \n",
      "64510                                    NaN                              NaN   \n",
      "64511                                    NaN                              NaN   \n",
      "64512                                    NaN                              NaN   \n",
      "64513                                    NaN                              NaN   \n",
      "64514                                    NaN                              NaN   \n",
      "\n",
      "       female_smokers_prc  female_smokers_prc.1  hospital_beds_per_thousand  \\\n",
      "63533                 NaN                   NaN                         NaN   \n",
      "63534                 NaN                   NaN                         NaN   \n",
      "63535                 NaN                   NaN                         NaN   \n",
      "63536                 NaN                   NaN                         NaN   \n",
      "63537                 NaN                   NaN                         NaN   \n",
      "...                   ...                   ...                         ...   \n",
      "64510                 NaN                   NaN                         NaN   \n",
      "64511                 NaN                   NaN                         NaN   \n",
      "64512                 NaN                   NaN                         NaN   \n",
      "64513                 NaN                   NaN                         NaN   \n",
      "64514                 NaN                   NaN                         NaN   \n",
      "\n",
      "       life_expectancy  \n",
      "63533              NaN  \n",
      "63534              NaN  \n",
      "63535              NaN  \n",
      "63536              NaN  \n",
      "63537              NaN  \n",
      "...                ...  \n",
      "64510              NaN  \n",
      "64511              NaN  \n",
      "64512              NaN  \n",
      "64513              NaN  \n",
      "64514              NaN  \n",
      "\n",
      "[982 rows x 32 columns]\n"
     ]
    }
   ],
   "source": [
    "print(df.info())\n",
    "print(df.loc[df[\"location\"] == \"Europe\"])"
   ]
  },
  {
   "cell_type": "markdown",
   "id": "2bf63b71-7a06-4940-b8af-bd8d1f922172",
   "metadata": {},
   "source": [
    "* * * * * * * * * * * * * * * * * *\n",
    "Your analysis documentation here\n",
    "* * * * * * * * * * * * * * * * * *"
   ]
  },
  {
   "cell_type": "markdown",
   "id": "583d1907",
   "metadata": {},
   "source": [
    "**TO-DO P3**"
   ]
  },
  {
   "cell_type": "code",
   "execution_count": 24,
   "id": "d5afab18-3d84-4b11-804e-c1b4aa8964eb",
   "metadata": {},
   "outputs": [
    {
     "name": "stdout",
     "output_type": "stream",
     "text": [
      "<class 'pandas.core.frame.DataFrame'>\n",
      "RangeIndex: 220336 entries, 0 to 220335\n",
      "Data columns (total 32 columns):\n",
      " #   Column                                 Non-Null Count   Dtype         \n",
      "---  ------                                 --------------   -----         \n",
      " 0   Unnamed: 0                             220336 non-null  int64         \n",
      " 1   continent                              207663 non-null  object        \n",
      " 2   location                               220336 non-null  object        \n",
      " 3   date                                   220336 non-null  datetime64[ns]\n",
      " 4   new_cases                              211112 non-null  float64       \n",
      " 5   new_deaths                             192215 non-null  float64       \n",
      " 6   reproduction_rate                      166135 non-null  float64       \n",
      " 7   icu_patients                           28050 non-null   float64       \n",
      " 8   hosp_patients                          30819 non-null   float64       \n",
      " 9   weekly_icu_admissions                  7125 non-null    float64       \n",
      " 10  weekly_hosp_admissions_per_million     14188 non-null   float64       \n",
      " 11  new_tests                              75403 non-null   float64       \n",
      " 12  positive_rate                          95927 non-null   float64       \n",
      " 13  total_vaccinations                     61724 non-null   float64       \n",
      " 14  people_vaccinated_at_least_1_dose      59019 non-null   float64       \n",
      " 15  people_fully_vaccinated                56261 non-null   float64       \n",
      " 16  total_boosters                         32936 non-null   float64       \n",
      " 17  new_vaccinations                       50758 non-null   float64       \n",
      " 18  government_response_index              166168 non-null  float64       \n",
      " 19  population                             219052 non-null  float64       \n",
      " 20  population_density                     195670 non-null  float64       \n",
      " 21  median_age                             181063 non-null  float64       \n",
      " 22  aged_65_older                          179150 non-null  float64       \n",
      " 23  aged_70_older                          180115 non-null  float64       \n",
      " 24  gdp_per_capita                         180403 non-null  float64       \n",
      " 25  extreme_poverty_prc                    117660 non-null  float64       \n",
      " 26  cardiovasc_death_per_hundred_thousand  180584 non-null  float64       \n",
      " 27  diabetes_pop_rate_aged_20_to_79        189833 non-null  float64       \n",
      " 28  female_smokers_prc                     136795 non-null  float64       \n",
      " 29  female_smokers_prc.1                   134922 non-null  float64       \n",
      " 30  hospital_beds_per_thousand             160657 non-null  float64       \n",
      " 31  life_expectancy                        205861 non-null  float64       \n",
      "dtypes: datetime64[ns](1), float64(28), int64(1), object(2)\n",
      "memory usage: 53.8+ MB\n"
     ]
    }
   ],
   "source": [
    "# Ensure the date column is datetime\n",
    "\n",
    "\n",
    "# Your code here\n",
    "\n",
    "df[\"date\"] = pd.to_datetime(df[\"date\"])\n",
    "df.info()"
   ]
  },
  {
   "cell_type": "markdown",
   "id": "2c7c5684-1912-47db-aa40-fb5d60cde843",
   "metadata": {},
   "source": [
    "---\n",
    "# Analysis\n",
    "---"
   ]
  },
  {
   "cell_type": "markdown",
   "id": "5a30f7ab",
   "metadata": {},
   "source": [
    "**TO-DO A1**"
   ]
  },
  {
   "cell_type": "markdown",
   "id": "91fb1444",
   "metadata": {},
   "source": [
    "Document what is happening in the `location` column\n",
    "  \n",
    "Your analysis here\n",
    "\n",
    "R:Existem registos em que a location é um continente ex:\"Europe\" e Continente Nan. Portanto não são da mesma categoria"
   ]
  },
  {
   "cell_type": "markdown",
   "id": "f47ac391",
   "metadata": {},
   "source": [
    "**TO-DO A2**"
   ]
  },
  {
   "cell_type": "markdown",
   "id": "4bc752f7-b0f8-4a78-993b-2b3677889b6e",
   "metadata": {},
   "source": [
    "Your answer here  \n",
    "\n",
    "R: Como existem registos em que o Continente é Nan, ao fazermos um estudo a nivel de um país esses registos não nos são uteis.\n",
    " Outro problema ao fazermos um histograma utilizando a coluna location inicialmente estaremos à espera de termos nesse field\n",
    " apenas paises mas no entanto vão aparecer continentes. Se quisermos fazer um estudo global não somos capazes de averiguar se\n",
    " um registo que tenha a location e continent corretas, não tenha \"contribuido\" para esses registos que têm um continente\n",
    " no field da location. Tambem não é possivel fazer a distinção entre região economica Europeia e o Continente Europa com estes\n",
    " registos."
   ]
  },
  {
   "cell_type": "markdown",
   "id": "a5208122",
   "metadata": {},
   "source": [
    "**TO-DO A3**"
   ]
  },
  {
   "cell_type": "code",
   "execution_count": 5,
   "id": "7c811104-fafa-47e6-b2e3-e96900d63c4a",
   "metadata": {},
   "outputs": [],
   "source": [
    "# create dfx dataframe with data for Austria, France, Spain and Portugal only\n",
    "\n",
    "# Your code here\n",
    "\n",
    "df_austria = df.loc[df[\"location\"] == \"Austria\"]\n",
    "df_france = df.loc[df[\"location\"] == \"France\"]\n",
    "df_spain = df.loc[df[\"location\"] == \"Spain\"]\n",
    "df_portugal = df.loc[df[\"location\"] == \"Portugal\"]\n"
   ]
  },
  {
   "cell_type": "markdown",
   "id": "722b0f40",
   "metadata": {},
   "source": [
    "**TO-DO A4**"
   ]
  },
  {
   "cell_type": "code",
   "execution_count": 3,
   "id": "da241125-dd8b-4e32-ad9a-802913b92de4",
   "metadata": {},
   "outputs": [],
   "source": [
    "# create function to produce and export histogram and boxplot.\n",
    "\n",
    "# follow the instructions provided in the handout\n",
    "# remember you will revise/expand this function later\n",
    "\n",
    "# Your code here\n",
    "\n",
    "def get_basic_plots(country, var, opt):\n",
    "    df_y = df.loc[df[\"location\"] == country]\n",
    "    df_y.hist(column=var, bins=20)\n",
    "    plt.savefig(f\"{country}-{var}-histogram.png\")\n",
    "    plt.close()\n",
    "    \n",
    "    df_y = df.loc[df[\"location\"] == country]\n",
    "    df_y.boxplot(column=var)\n",
    "    plt.savefig(f\"{country}-{var}-boxplot.png\")\n",
    "    plt.close()\n",
    "    \n",
    "    \n",
    "get_basic_plots(\"Portugal\", \"new_cases\", 0)\n",
    "    "
   ]
  },
  {
   "cell_type": "markdown",
   "id": "524d92b8",
   "metadata": {},
   "source": [
    "**TO-DO A5**"
   ]
  },
  {
   "cell_type": "code",
   "execution_count": 74,
   "id": "828fd122-ea08-4bf3-9194-c36e2368cea6",
   "metadata": {},
   "outputs": [],
   "source": [
    "# create function to remove outliers using the 1.5*IQR method \n",
    "\n",
    "# Your code here\n",
    "\n",
    "def remove_outliers(col):\n",
    "    copy_df = df.copy()\n",
    "    q1 = np.percentile(copy_df[col], 0.25)\n",
    "    q3 = np.percentile(copy_df[col], 0.75)\n",
    "    \n",
    "    \n",
    "remove_outliers(2)"
   ]
  },
  {
   "cell_type": "markdown",
   "id": "133d8534",
   "metadata": {},
   "source": [
    "**TO-DO A6**"
   ]
  },
  {
   "cell_type": "code",
   "execution_count": 8,
   "id": "6e945383-7fb8-4836-a116-3628e2bc8dd3",
   "metadata": {},
   "outputs": [],
   "source": [
    "# edit function created in A4 so that the argument opt is used to remove outliers (or not)\n",
    "# following instructions in the handout. Edit your code in the TO-DO A4 cell"
   ]
  },
  {
   "cell_type": "markdown",
   "id": "e1169180",
   "metadata": {},
   "source": [
    "**TO-DO A7**"
   ]
  },
  {
   "cell_type": "markdown",
   "id": "a5d74671-7655-4c18-b430-fcc6c3be4de0",
   "metadata": {},
   "source": [
    "Your analysis here "
   ]
  },
  {
   "cell_type": "markdown",
   "id": "ff699bee",
   "metadata": {},
   "source": [
    "**TO-DO A8**"
   ]
  },
  {
   "cell_type": "code",
   "execution_count": 9,
   "id": "2b36ea51-accb-4d04-b1a2-80554487b2fb",
   "metadata": {},
   "outputs": [],
   "source": [
    "# adding extra columns to the dataframe with normalised data for new_cases and new_deaths\n",
    "\n",
    "# Your code here"
   ]
  },
  {
   "cell_type": "markdown",
   "id": "12cc7402",
   "metadata": {},
   "source": [
    "Your analysis here"
   ]
  }
 ],
 "metadata": {
  "kernelspec": {
   "display_name": "Python 3 (ipykernel)",
   "language": "python",
   "name": "python3"
  },
  "language_info": {
   "codemirror_mode": {
    "name": "ipython",
    "version": 3
   },
   "file_extension": ".py",
   "mimetype": "text/x-python",
   "name": "python",
   "nbconvert_exporter": "python",
   "pygments_lexer": "ipython3",
   "version": "3.10.7"
  }
 },
 "nbformat": 4,
 "nbformat_minor": 5
}
