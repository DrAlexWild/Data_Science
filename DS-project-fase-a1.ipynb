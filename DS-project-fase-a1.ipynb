{
 "cells": [
  {
   "cell_type": "markdown",
   "id": "f6735f6b-3bec-4dd5-be2b-65f92440a26e",
   "metadata": {},
   "source": [
    "# Identification"
   ]
  },
  {
   "cell_type": "markdown",
   "id": "06b46940-63b1-4eb2-8cbe-ede8711ce7db",
   "metadata": {},
   "source": [
    "Student names and matriculation numbers\n",
    "\n",
    "*Add here*\n",
    "\n",
    "We declare that the code and analyses contained in this notebook were produced by ourselves and therefore were not copied from elsewhere."
   ]
  },
  {
   "cell_type": "markdown",
   "id": "612ae33d-f64c-425e-b358-edec0b4b743b",
   "metadata": {
    "tags": []
   },
   "source": [
    "---\n",
    "# Notes\n",
    "---\n",
    "When a code cell has the text `Your code here`, feel free to split it into more cells (code and/or markdown), if it is more convenient for you.\n"
   ]
  },
  {
   "cell_type": "markdown",
   "id": "b9a126b0-f428-459a-89bf-e6ec433744b5",
   "metadata": {
    "tags": []
   },
   "source": [
    "---\n",
    "# Preprocessing\n",
    "---"
   ]
  },
  {
   "cell_type": "markdown",
   "id": "740bb00f",
   "metadata": {},
   "source": [
    "**TO-DO P1**"
   ]
  },
  {
   "cell_type": "code",
   "execution_count": 1,
   "id": "a772e955-3f4d-4fcb-bf9b-d74585617376",
   "metadata": {},
   "outputs": [],
   "source": [
    "# Library imports\n",
    "\n",
    "# Your code here"
   ]
  },
  {
   "cell_type": "code",
   "execution_count": 2,
   "id": "16e4561c-d906-4365-8b0e-790fe64b54a0",
   "metadata": {},
   "outputs": [],
   "source": [
    "# Data imports\n",
    "# Data manipulation\n",
    "import pandas as pd\n",
    "import numpy as np\n",
    "import matplotlib.pyplot as plt\n",
    "\n",
    "# Data visualization\n",
    "import seaborn as sns\n",
    "import plotly.graph_objs as go\n",
    "from plotly.subplots import make_subplots\n",
    "\n",
    "sns.set_style(style='darkgrid')\n",
    "\n",
    "df = pd.read_csv('covid-data.csv')\n"
   ]
  },
  {
   "cell_type": "markdown",
   "id": "2bdf9e30",
   "metadata": {},
   "source": [
    "**TO-DO P2**"
   ]
  },
  {
   "cell_type": "code",
   "execution_count": 2,
   "id": "1c2b9987-58ea-4dae-8e6a-db1eef1441b3",
   "metadata": {},
   "outputs": [],
   "source": [
    "# Understanding the data\n",
    "\n",
    "# FILL MARKDOWN CELL BELOW\n"
   ]
  },
  {
   "cell_type": "code",
   "execution_count": 3,
   "id": "188aa83b",
   "metadata": {
    "scrolled": true
   },
   "outputs": [
    {
     "name": "stdout",
     "output_type": "stream",
     "text": [
      "<class 'pandas.core.frame.DataFrame'>\n",
      "RangeIndex: 220336 entries, 0 to 220335\n",
      "Data columns (total 32 columns):\n",
      " #   Column                                 Non-Null Count   Dtype  \n",
      "---  ------                                 --------------   -----  \n",
      " 0   Unnamed: 0                             220336 non-null  int64  \n",
      " 1   continent                              207663 non-null  object \n",
      " 2   location                               220336 non-null  object \n",
      " 3   date                                   220336 non-null  object \n",
      " 4   new_cases                              211112 non-null  float64\n",
      " 5   new_deaths                             192215 non-null  float64\n",
      " 6   reproduction_rate                      166135 non-null  float64\n",
      " 7   icu_patients                           28050 non-null   float64\n",
      " 8   hosp_patients                          30819 non-null   float64\n",
      " 9   weekly_icu_admissions                  7125 non-null    float64\n",
      " 10  weekly_hosp_admissions_per_million     14188 non-null   float64\n",
      " 11  new_tests                              75403 non-null   float64\n",
      " 12  positive_rate                          95927 non-null   float64\n",
      " 13  total_vaccinations                     61724 non-null   float64\n",
      " 14  people_vaccinated_at_least_1_dose      59019 non-null   float64\n",
      " 15  people_fully_vaccinated                56261 non-null   float64\n",
      " 16  total_boosters                         32936 non-null   float64\n",
      " 17  new_vaccinations                       50758 non-null   float64\n",
      " 18  government_response_index              166168 non-null  float64\n",
      " 19  population                             219052 non-null  float64\n",
      " 20  population_density                     195670 non-null  float64\n",
      " 21  median_age                             181063 non-null  float64\n",
      " 22  aged_65_older                          179150 non-null  float64\n",
      " 23  aged_70_older                          180115 non-null  float64\n",
      " 24  gdp_per_capita                         180403 non-null  float64\n",
      " 25  extreme_poverty_prc                    117660 non-null  float64\n",
      " 26  cardiovasc_death_per_hundred_thousand  180584 non-null  float64\n",
      " 27  diabetes_pop_rate_aged_20_to_79        189833 non-null  float64\n",
      " 28  female_smokers_prc                     136795 non-null  float64\n",
      " 29  female_smokers_prc.1                   134922 non-null  float64\n",
      " 30  hospital_beds_per_thousand             160657 non-null  float64\n",
      " 31  life_expectancy                        205861 non-null  float64\n",
      "dtypes: float64(28), int64(1), object(3)\n",
      "memory usage: 53.8+ MB\n",
      "None\n",
      "       Unnamed: 0 continent location        date  new_cases  new_deaths  \\\n",
      "63533       63533       NaN   Europe  2020-01-23        0.0         0.0   \n",
      "63534       63534       NaN   Europe  2020-01-24        2.0         0.0   \n",
      "63535       63535       NaN   Europe  2020-01-25        1.0         0.0   \n",
      "63536       63536       NaN   Europe  2020-01-26        0.0         0.0   \n",
      "63537       63537       NaN   Europe  2020-01-27        1.0         0.0   \n",
      "...           ...       ...      ...         ...        ...         ...   \n",
      "64510       64510       NaN   Europe  2022-09-26   251859.0       426.0   \n",
      "64511       64511       NaN   Europe  2022-09-27   372887.0       701.0   \n",
      "64512       64512       NaN   Europe  2022-09-28   260367.0       473.0   \n",
      "64513       64513       NaN   Europe  2022-09-29   382340.0      1058.0   \n",
      "64514       64514       NaN   Europe  2022-09-30   252169.0       494.0   \n",
      "\n",
      "       reproduction_rate  icu_patients  hosp_patients  weekly_icu_admissions  \\\n",
      "63533                NaN           NaN            NaN                    NaN   \n",
      "63534                NaN           NaN            NaN                    NaN   \n",
      "63535                NaN           NaN            NaN                    NaN   \n",
      "63536                NaN           NaN            NaN                    NaN   \n",
      "63537                NaN           NaN            NaN                    NaN   \n",
      "...                  ...           ...            ...                    ...   \n",
      "64510                NaN           NaN            NaN                    NaN   \n",
      "64511                NaN           NaN            NaN                    NaN   \n",
      "64512                NaN           NaN            NaN                    NaN   \n",
      "64513                NaN           NaN            NaN                    NaN   \n",
      "64514                NaN           NaN            NaN                    NaN   \n",
      "\n",
      "       ...  aged_65_older  aged_70_older  gdp_per_capita  extreme_poverty_prc  \\\n",
      "63533  ...            NaN            NaN             NaN                  NaN   \n",
      "63534  ...            NaN            NaN             NaN                  NaN   \n",
      "63535  ...            NaN            NaN             NaN                  NaN   \n",
      "63536  ...            NaN            NaN             NaN                  NaN   \n",
      "63537  ...            NaN            NaN             NaN                  NaN   \n",
      "...    ...            ...            ...             ...                  ...   \n",
      "64510  ...            NaN            NaN             NaN                  NaN   \n",
      "64511  ...            NaN            NaN             NaN                  NaN   \n",
      "64512  ...            NaN            NaN             NaN                  NaN   \n",
      "64513  ...            NaN            NaN             NaN                  NaN   \n",
      "64514  ...            NaN            NaN             NaN                  NaN   \n",
      "\n",
      "       cardiovasc_death_per_hundred_thousand  diabetes_pop_rate_aged_20_to_79  \\\n",
      "63533                                    NaN                              NaN   \n",
      "63534                                    NaN                              NaN   \n",
      "63535                                    NaN                              NaN   \n",
      "63536                                    NaN                              NaN   \n",
      "63537                                    NaN                              NaN   \n",
      "...                                      ...                              ...   \n",
      "64510                                    NaN                              NaN   \n",
      "64511                                    NaN                              NaN   \n",
      "64512                                    NaN                              NaN   \n",
      "64513                                    NaN                              NaN   \n",
      "64514                                    NaN                              NaN   \n",
      "\n",
      "       female_smokers_prc  female_smokers_prc.1  hospital_beds_per_thousand  \\\n",
      "63533                 NaN                   NaN                         NaN   \n",
      "63534                 NaN                   NaN                         NaN   \n",
      "63535                 NaN                   NaN                         NaN   \n",
      "63536                 NaN                   NaN                         NaN   \n",
      "63537                 NaN                   NaN                         NaN   \n",
      "...                   ...                   ...                         ...   \n",
      "64510                 NaN                   NaN                         NaN   \n",
      "64511                 NaN                   NaN                         NaN   \n",
      "64512                 NaN                   NaN                         NaN   \n",
      "64513                 NaN                   NaN                         NaN   \n",
      "64514                 NaN                   NaN                         NaN   \n",
      "\n",
      "       life_expectancy  \n",
      "63533              NaN  \n",
      "63534              NaN  \n",
      "63535              NaN  \n",
      "63536              NaN  \n",
      "63537              NaN  \n",
      "...                ...  \n",
      "64510              NaN  \n",
      "64511              NaN  \n",
      "64512              NaN  \n",
      "64513              NaN  \n",
      "64514              NaN  \n",
      "\n",
      "[982 rows x 32 columns]\n"
     ]
    }
   ],
   "source": [
    "print(df.info())\n",
    "print(df.loc[df[\"location\"] == \"Europe\"])"
   ]
  },
  {
   "cell_type": "markdown",
   "id": "2bf63b71-7a06-4940-b8af-bd8d1f922172",
   "metadata": {},
   "source": [
    "* * * * * * * * * * * * * * * * * *\n",
    "Your analysis documentation here\n",
    "* * * * * * * * * * * * * * * * * *"
   ]
  },
  {
   "cell_type": "markdown",
   "id": "583d1907",
   "metadata": {},
   "source": [
    "**TO-DO P3**"
   ]
  },
  {
   "cell_type": "code",
   "execution_count": 4,
   "id": "d5afab18-3d84-4b11-804e-c1b4aa8964eb",
   "metadata": {},
   "outputs": [
    {
     "name": "stdout",
     "output_type": "stream",
     "text": [
      "<class 'pandas.core.frame.DataFrame'>\n",
      "RangeIndex: 220336 entries, 0 to 220335\n",
      "Data columns (total 32 columns):\n",
      " #   Column                                 Non-Null Count   Dtype         \n",
      "---  ------                                 --------------   -----         \n",
      " 0   Unnamed: 0                             220336 non-null  int64         \n",
      " 1   continent                              207663 non-null  object        \n",
      " 2   location                               220336 non-null  object        \n",
      " 3   date                                   220336 non-null  datetime64[ns]\n",
      " 4   new_cases                              211112 non-null  float64       \n",
      " 5   new_deaths                             192215 non-null  float64       \n",
      " 6   reproduction_rate                      166135 non-null  float64       \n",
      " 7   icu_patients                           28050 non-null   float64       \n",
      " 8   hosp_patients                          30819 non-null   float64       \n",
      " 9   weekly_icu_admissions                  7125 non-null    float64       \n",
      " 10  weekly_hosp_admissions_per_million     14188 non-null   float64       \n",
      " 11  new_tests                              75403 non-null   float64       \n",
      " 12  positive_rate                          95927 non-null   float64       \n",
      " 13  total_vaccinations                     61724 non-null   float64       \n",
      " 14  people_vaccinated_at_least_1_dose      59019 non-null   float64       \n",
      " 15  people_fully_vaccinated                56261 non-null   float64       \n",
      " 16  total_boosters                         32936 non-null   float64       \n",
      " 17  new_vaccinations                       50758 non-null   float64       \n",
      " 18  government_response_index              166168 non-null  float64       \n",
      " 19  population                             219052 non-null  float64       \n",
      " 20  population_density                     195670 non-null  float64       \n",
      " 21  median_age                             181063 non-null  float64       \n",
      " 22  aged_65_older                          179150 non-null  float64       \n",
      " 23  aged_70_older                          180115 non-null  float64       \n",
      " 24  gdp_per_capita                         180403 non-null  float64       \n",
      " 25  extreme_poverty_prc                    117660 non-null  float64       \n",
      " 26  cardiovasc_death_per_hundred_thousand  180584 non-null  float64       \n",
      " 27  diabetes_pop_rate_aged_20_to_79        189833 non-null  float64       \n",
      " 28  female_smokers_prc                     136795 non-null  float64       \n",
      " 29  female_smokers_prc.1                   134922 non-null  float64       \n",
      " 30  hospital_beds_per_thousand             160657 non-null  float64       \n",
      " 31  life_expectancy                        205861 non-null  float64       \n",
      "dtypes: datetime64[ns](1), float64(28), int64(1), object(2)\n",
      "memory usage: 53.8+ MB\n"
     ]
    }
   ],
   "source": [
    "# Ensure the date column is datetime\n",
    "\n",
    "\n",
    "# Your code here\n",
    "\n",
    "df[\"date\"] = pd.to_datetime(df[\"date\"])\n",
    "df.info()"
   ]
  },
  {
   "cell_type": "markdown",
   "id": "2c7c5684-1912-47db-aa40-fb5d60cde843",
   "metadata": {},
   "source": [
    "---\n",
    "# Analysis\n",
    "---"
   ]
  },
  {
   "cell_type": "markdown",
   "id": "5a30f7ab",
   "metadata": {},
   "source": [
    "**TO-DO A1**"
   ]
  },
  {
   "cell_type": "markdown",
   "id": "91fb1444",
   "metadata": {},
   "source": [
    "Document what is happening in the `location` column\n",
    "  \n",
    "Your analysis here\n",
    "\n",
    "R:Existem registos em que a location é um continente ex:\"Europe\" e Continente Nan. Portanto não são da mesma categoria"
   ]
  },
  {
   "cell_type": "markdown",
   "id": "f47ac391",
   "metadata": {},
   "source": [
    "**TO-DO A2**"
   ]
  },
  {
   "cell_type": "markdown",
   "id": "4bc752f7-b0f8-4a78-993b-2b3677889b6e",
   "metadata": {},
   "source": [
    "Your answer here  \n",
    "\n",
    "R: Como existem registos em que o Continente é Nan, ao fazermos um estudo a nivel de um país esses registos não nos são uteis.\n",
    " Outro problema ao fazermos um histograma utilizando a coluna location inicialmente estaremos à espera de termos nesse field\n",
    " apenas paises mas no entanto vão aparecer continentes. Se quisermos fazer um estudo global não somos capazes de averiguar se\n",
    " um registo que tenha a location e continent corretas, não tenha \"contribuido\" para esses registos que têm um continente\n",
    " no field da location. Tambem não é possivel fazer a distinção entre região economica Europeia e o Continente Europa com estes\n",
    " registos."
   ]
  },
  {
   "cell_type": "markdown",
   "id": "a5208122",
   "metadata": {},
   "source": [
    "**TO-DO A3**"
   ]
  },
  {
   "cell_type": "code",
   "execution_count": 5,
   "id": "7c811104-fafa-47e6-b2e3-e96900d63c4a",
   "metadata": {},
   "outputs": [],
   "source": [
    "# create dfx dataframe with data for Austria, France, Spain and Portugal only\n",
    "\n",
    "# Your code here\n",
    "\n",
    "df_austria = df.loc[df[\"location\"] == \"Austria\"]\n",
    "df_france = df.loc[df[\"location\"] == \"France\"]\n",
    "df_spain = df.loc[df[\"location\"] == \"Spain\"]\n",
    "df_portugal = df.loc[df[\"location\"] == \"Portugal\"]\n"
   ]
  },
  {
   "cell_type": "markdown",
   "id": "722b0f40",
   "metadata": {},
   "source": [
    "**TO-DO A4**"
   ]
  },
  {
   "cell_type": "code",
   "execution_count": 20,
   "id": "da241125-dd8b-4e32-ad9a-802913b92de4",
   "metadata": {},
   "outputs": [],
   "source": [
    "# create function to produce and export histogram and boxplot.\n",
    "\n",
    "# follow the instructions provided in the handout\n",
    "# remember you will revise/expand this function later\n",
    "\n",
    "# Your code here\n",
    "\n",
    "def get_basic_plots(country, var, opt):\n",
    "    df_y = df.loc[df[\"location\"] == country]\n",
    "    df_y.hist(column=var, bins=20)\n",
    "    plt.savefig(f\"{country}-{var}-histogram.png\")\n",
    "    plt.close()\n",
    "    \n",
    "    df_y = df.loc[df[\"location\"] == country]\n",
    "    df_y.boxplot(column=var)\n",
    "    plt.savefig(f\"{country}-{var}-boxplot.png\")\n",
    "    plt.close()\n",
    "    \n",
    "    \n",
    "get_basic_plots(\"Portugal\", \"new_cases\", 0)\n",
    "    "
   ]
  },
  {
   "cell_type": "markdown",
   "id": "524d92b8",
   "metadata": {},
   "source": [
    "**TO-DO A5**"
   ]
  },
  {
   "cell_type": "code",
   "execution_count": 12,
   "id": "828fd122-ea08-4bf3-9194-c36e2368cea6",
   "metadata": {},
   "outputs": [
    {
     "name": "stdout",
     "output_type": "stream",
     "text": [
      "979.0\n",
      "2447.5\n"
     ]
    },
    {
     "ename": "TypeError",
     "evalue": "Axes.boxplot() got an unexpected keyword argument 'fliersize'",
     "output_type": "error",
     "traceback": [
      "\u001b[1;31m---------------------------------------------------------------------------\u001b[0m",
      "\u001b[1;31mTypeError\u001b[0m                                 Traceback (most recent call last)",
      "Input \u001b[1;32mIn [12]\u001b[0m, in \u001b[0;36m<cell line: 23>\u001b[1;34m()\u001b[0m\n\u001b[0;32m     18\u001b[0m     \u001b[38;5;66;03m#a razão pela qual mostra outliers na imagem é porque estamos a gerar um novo graph em que para aqueles percentiles\u001b[39;00m\n\u001b[0;32m     19\u001b[0m     \u001b[38;5;66;03m#existem novos valores para outliers\u001b[39;00m\n\u001b[0;32m     21\u001b[0m     \u001b[38;5;28;01mreturn\u001b[39;00m df_out\n\u001b[1;32m---> 23\u001b[0m \u001b[43mremove_outliers\u001b[49m\u001b[43m(\u001b[49m\u001b[43mdf\u001b[49m\u001b[43m,\u001b[49m\u001b[43m \u001b[49m\u001b[38;5;124;43m\"\u001b[39;49m\u001b[38;5;124;43mnew_cases\u001b[39;49m\u001b[38;5;124;43m\"\u001b[39;49m\u001b[43m)\u001b[49m\n",
      "Input \u001b[1;32mIn [12]\u001b[0m, in \u001b[0;36mremove_outliers\u001b[1;34m(df_in, col_name)\u001b[0m\n\u001b[0;32m     15\u001b[0m \u001b[38;5;66;03m#testing_box_plot\u001b[39;00m\n\u001b[0;32m     16\u001b[0m df_y \u001b[38;5;241m=\u001b[39m df_out\u001b[38;5;241m.\u001b[39mloc[df_out[\u001b[38;5;124m\"\u001b[39m\u001b[38;5;124mlocation\u001b[39m\u001b[38;5;124m\"\u001b[39m] \u001b[38;5;241m==\u001b[39m \u001b[38;5;124m\"\u001b[39m\u001b[38;5;124mPortugal\u001b[39m\u001b[38;5;124m\"\u001b[39m]\n\u001b[1;32m---> 17\u001b[0m \u001b[43mdf_y\u001b[49m\u001b[38;5;241;43m.\u001b[39;49m\u001b[43mboxplot\u001b[49m\u001b[43m(\u001b[49m\u001b[43mcolumn\u001b[49m\u001b[38;5;241;43m=\u001b[39;49m\u001b[38;5;124;43m\"\u001b[39;49m\u001b[38;5;124;43mnew_cases\u001b[39;49m\u001b[38;5;124;43m\"\u001b[39;49m\u001b[43m,\u001b[49m\u001b[43m \u001b[49m\u001b[43mfliersize\u001b[49m\u001b[38;5;241;43m=\u001b[39;49m\u001b[38;5;241;43m0.2\u001b[39;49m\u001b[43m)\u001b[49m\n\u001b[0;32m     18\u001b[0m \u001b[38;5;66;03m#a razão pela qual mostra outliers na imagem é porque estamos a gerar um novo graph em que para aqueles percentiles\u001b[39;00m\n\u001b[0;32m     19\u001b[0m \u001b[38;5;66;03m#existem novos valores para outliers\u001b[39;00m\n\u001b[0;32m     21\u001b[0m \u001b[38;5;28;01mreturn\u001b[39;00m df_out\n",
      "File \u001b[1;32m~\\AppData\\Local\\Programs\\Python\\Python310\\lib\\site-packages\\pandas\\plotting\\_core.py:517\u001b[0m, in \u001b[0;36mboxplot_frame\u001b[1;34m(self, column, by, ax, fontsize, rot, grid, figsize, layout, return_type, backend, **kwargs)\u001b[0m\n\u001b[0;32m    500\u001b[0m \u001b[38;5;129m@Substitution\u001b[39m(backend\u001b[38;5;241m=\u001b[39m_backend_doc)\n\u001b[0;32m    501\u001b[0m \u001b[38;5;129m@Appender\u001b[39m(_boxplot_doc)\n\u001b[0;32m    502\u001b[0m \u001b[38;5;28;01mdef\u001b[39;00m \u001b[38;5;21mboxplot_frame\u001b[39m(\n\u001b[1;32m   (...)\u001b[0m\n\u001b[0;32m    514\u001b[0m     \u001b[38;5;241m*\u001b[39m\u001b[38;5;241m*\u001b[39mkwargs,\n\u001b[0;32m    515\u001b[0m ):\n\u001b[0;32m    516\u001b[0m     plot_backend \u001b[38;5;241m=\u001b[39m _get_plot_backend(backend)\n\u001b[1;32m--> 517\u001b[0m     \u001b[38;5;28;01mreturn\u001b[39;00m plot_backend\u001b[38;5;241m.\u001b[39mboxplot_frame(\n\u001b[0;32m    518\u001b[0m         \u001b[38;5;28mself\u001b[39m,\n\u001b[0;32m    519\u001b[0m         column\u001b[38;5;241m=\u001b[39mcolumn,\n\u001b[0;32m    520\u001b[0m         by\u001b[38;5;241m=\u001b[39mby,\n\u001b[0;32m    521\u001b[0m         ax\u001b[38;5;241m=\u001b[39max,\n\u001b[0;32m    522\u001b[0m         fontsize\u001b[38;5;241m=\u001b[39mfontsize,\n\u001b[0;32m    523\u001b[0m         rot\u001b[38;5;241m=\u001b[39mrot,\n\u001b[0;32m    524\u001b[0m         grid\u001b[38;5;241m=\u001b[39mgrid,\n\u001b[0;32m    525\u001b[0m         figsize\u001b[38;5;241m=\u001b[39mfigsize,\n\u001b[0;32m    526\u001b[0m         layout\u001b[38;5;241m=\u001b[39mlayout,\n\u001b[0;32m    527\u001b[0m         return_type\u001b[38;5;241m=\u001b[39mreturn_type,\n\u001b[0;32m    528\u001b[0m         \u001b[38;5;241m*\u001b[39m\u001b[38;5;241m*\u001b[39mkwargs,\n\u001b[0;32m    529\u001b[0m     )\n",
      "File \u001b[1;32m~\\AppData\\Local\\Programs\\Python\\Python310\\lib\\site-packages\\pandas\\plotting\\_matplotlib\\boxplot.py:459\u001b[0m, in \u001b[0;36mboxplot_frame\u001b[1;34m(self, column, by, ax, fontsize, rot, grid, figsize, layout, return_type, **kwds)\u001b[0m\n\u001b[0;32m    444\u001b[0m \u001b[38;5;28;01mdef\u001b[39;00m \u001b[38;5;21mboxplot_frame\u001b[39m(\n\u001b[0;32m    445\u001b[0m     \u001b[38;5;28mself\u001b[39m,\n\u001b[0;32m    446\u001b[0m     column\u001b[38;5;241m=\u001b[39m\u001b[38;5;28;01mNone\u001b[39;00m,\n\u001b[1;32m   (...)\u001b[0m\n\u001b[0;32m    455\u001b[0m     \u001b[38;5;241m*\u001b[39m\u001b[38;5;241m*\u001b[39mkwds,\n\u001b[0;32m    456\u001b[0m ):\n\u001b[0;32m    457\u001b[0m     \u001b[38;5;28;01mimport\u001b[39;00m \u001b[38;5;21;01mmatplotlib\u001b[39;00m\u001b[38;5;21;01m.\u001b[39;00m\u001b[38;5;21;01mpyplot\u001b[39;00m \u001b[38;5;28;01mas\u001b[39;00m \u001b[38;5;21;01mplt\u001b[39;00m\n\u001b[1;32m--> 459\u001b[0m     ax \u001b[38;5;241m=\u001b[39m boxplot(\n\u001b[0;32m    460\u001b[0m         \u001b[38;5;28mself\u001b[39m,\n\u001b[0;32m    461\u001b[0m         column\u001b[38;5;241m=\u001b[39mcolumn,\n\u001b[0;32m    462\u001b[0m         by\u001b[38;5;241m=\u001b[39mby,\n\u001b[0;32m    463\u001b[0m         ax\u001b[38;5;241m=\u001b[39max,\n\u001b[0;32m    464\u001b[0m         fontsize\u001b[38;5;241m=\u001b[39mfontsize,\n\u001b[0;32m    465\u001b[0m         grid\u001b[38;5;241m=\u001b[39mgrid,\n\u001b[0;32m    466\u001b[0m         rot\u001b[38;5;241m=\u001b[39mrot,\n\u001b[0;32m    467\u001b[0m         figsize\u001b[38;5;241m=\u001b[39mfigsize,\n\u001b[0;32m    468\u001b[0m         layout\u001b[38;5;241m=\u001b[39mlayout,\n\u001b[0;32m    469\u001b[0m         return_type\u001b[38;5;241m=\u001b[39mreturn_type,\n\u001b[0;32m    470\u001b[0m         \u001b[38;5;241m*\u001b[39m\u001b[38;5;241m*\u001b[39mkwds,\n\u001b[0;32m    471\u001b[0m     )\n\u001b[0;32m    472\u001b[0m     plt\u001b[38;5;241m.\u001b[39mdraw_if_interactive()\n\u001b[0;32m    473\u001b[0m     \u001b[38;5;28;01mreturn\u001b[39;00m ax\n",
      "File \u001b[1;32m~\\AppData\\Local\\Programs\\Python\\Python310\\lib\\site-packages\\pandas\\plotting\\_matplotlib\\boxplot.py:438\u001b[0m, in \u001b[0;36mboxplot\u001b[1;34m(data, column, by, ax, fontsize, rot, grid, figsize, layout, return_type, **kwds)\u001b[0m\n\u001b[0;32m    435\u001b[0m     \u001b[38;5;28;01melse\u001b[39;00m:\n\u001b[0;32m    436\u001b[0m         data \u001b[38;5;241m=\u001b[39m data[columns]\n\u001b[1;32m--> 438\u001b[0m     result \u001b[38;5;241m=\u001b[39m plot_group(columns, data\u001b[38;5;241m.\u001b[39mvalues\u001b[38;5;241m.\u001b[39mT, ax, \u001b[38;5;241m*\u001b[39m\u001b[38;5;241m*\u001b[39mkwds)\n\u001b[0;32m    439\u001b[0m     ax\u001b[38;5;241m.\u001b[39mgrid(grid)\n\u001b[0;32m    441\u001b[0m \u001b[38;5;28;01mreturn\u001b[39;00m result\n",
      "File \u001b[1;32m~\\AppData\\Local\\Programs\\Python\\Python310\\lib\\site-packages\\pandas\\plotting\\_matplotlib\\boxplot.py:368\u001b[0m, in \u001b[0;36mboxplot.<locals>.plot_group\u001b[1;34m(keys, values, ax, **kwds)\u001b[0m\n\u001b[0;32m    366\u001b[0m keys \u001b[38;5;241m=\u001b[39m [pprint_thing(x) \u001b[38;5;28;01mfor\u001b[39;00m x \u001b[38;5;129;01min\u001b[39;00m keys]\n\u001b[0;32m    367\u001b[0m values \u001b[38;5;241m=\u001b[39m [np\u001b[38;5;241m.\u001b[39masarray(remove_na_arraylike(v), dtype\u001b[38;5;241m=\u001b[39m\u001b[38;5;28mobject\u001b[39m) \u001b[38;5;28;01mfor\u001b[39;00m v \u001b[38;5;129;01min\u001b[39;00m values]\n\u001b[1;32m--> 368\u001b[0m bp \u001b[38;5;241m=\u001b[39m ax\u001b[38;5;241m.\u001b[39mboxplot(values, \u001b[38;5;241m*\u001b[39m\u001b[38;5;241m*\u001b[39mkwds)\n\u001b[0;32m    369\u001b[0m \u001b[38;5;28;01mif\u001b[39;00m fontsize \u001b[38;5;129;01mis\u001b[39;00m \u001b[38;5;129;01mnot\u001b[39;00m \u001b[38;5;28;01mNone\u001b[39;00m:\n\u001b[0;32m    370\u001b[0m     ax\u001b[38;5;241m.\u001b[39mtick_params(axis\u001b[38;5;241m=\u001b[39m\u001b[38;5;124m\"\u001b[39m\u001b[38;5;124mboth\u001b[39m\u001b[38;5;124m\"\u001b[39m, labelsize\u001b[38;5;241m=\u001b[39mfontsize)\n",
      "File \u001b[1;32m~\\AppData\\Local\\Programs\\Python\\Python310\\lib\\site-packages\\matplotlib\\__init__.py:1412\u001b[0m, in \u001b[0;36m_preprocess_data.<locals>.inner\u001b[1;34m(ax, data, *args, **kwargs)\u001b[0m\n\u001b[0;32m   1409\u001b[0m \u001b[38;5;129m@functools\u001b[39m\u001b[38;5;241m.\u001b[39mwraps(func)\n\u001b[0;32m   1410\u001b[0m \u001b[38;5;28;01mdef\u001b[39;00m \u001b[38;5;21minner\u001b[39m(ax, \u001b[38;5;241m*\u001b[39margs, data\u001b[38;5;241m=\u001b[39m\u001b[38;5;28;01mNone\u001b[39;00m, \u001b[38;5;241m*\u001b[39m\u001b[38;5;241m*\u001b[39mkwargs):\n\u001b[0;32m   1411\u001b[0m     \u001b[38;5;28;01mif\u001b[39;00m data \u001b[38;5;129;01mis\u001b[39;00m \u001b[38;5;28;01mNone\u001b[39;00m:\n\u001b[1;32m-> 1412\u001b[0m         \u001b[38;5;28;01mreturn\u001b[39;00m func(ax, \u001b[38;5;241m*\u001b[39m\u001b[38;5;28mmap\u001b[39m(sanitize_sequence, args), \u001b[38;5;241m*\u001b[39m\u001b[38;5;241m*\u001b[39mkwargs)\n\u001b[0;32m   1414\u001b[0m     bound \u001b[38;5;241m=\u001b[39m new_sig\u001b[38;5;241m.\u001b[39mbind(ax, \u001b[38;5;241m*\u001b[39margs, \u001b[38;5;241m*\u001b[39m\u001b[38;5;241m*\u001b[39mkwargs)\n\u001b[0;32m   1415\u001b[0m     auto_label \u001b[38;5;241m=\u001b[39m (bound\u001b[38;5;241m.\u001b[39marguments\u001b[38;5;241m.\u001b[39mget(label_namer)\n\u001b[0;32m   1416\u001b[0m                   \u001b[38;5;129;01mor\u001b[39;00m bound\u001b[38;5;241m.\u001b[39mkwargs\u001b[38;5;241m.\u001b[39mget(label_namer))\n",
      "\u001b[1;31mTypeError\u001b[0m: Axes.boxplot() got an unexpected keyword argument 'fliersize'"
     ]
    },
    {
     "data": {
      "image/png": "[encoded data removed]",
      "text/plain": [
       "<Figure size 640x480 with 1 Axes>"
      ]
     },
     "metadata": {},
     "output_type": "display_data"
    }
   ],
   "source": [
    "# create function to remove outliers using the 1.5*IQR method \n",
    "\n",
    "# Your code here\n",
    "\n",
    "def remove_outliers(df_in, col_name):\n",
    "    q1 = df_in[col_name].quantile(0.25)\n",
    "    q3 = df_in[col_name].quantile(0.75)\n",
    "    iqr = q3-q1 #Interquartile range\n",
    "    print(iqr)\n",
    "    to_low  = q1-1.5*iqr\n",
    "    to_high = q3+1.5*iqr\n",
    "    print(to_high)\n",
    "    df_out = df_in.loc[(df_in[col_name] > to_low) & (df_in[col_name] < to_high)]\n",
    "       \n",
    "    #testing_box_plot\n",
    "    df_y = df_out.loc[df_out[\"location\"] == \"Portugal\"]\n",
    "    df_y.boxplot(column=\"new_cases\", fliersize=0)\n",
    "    #a razão pela qual mostra outliers na imagem é porque estamos a gerar um novo graph em que para aqueles percentiles\n",
    "    #existem novos valores para outliers\n",
    "    \n",
    "    return df_out\n",
    "    \n",
    "remove_outliers(df, \"new_cases\")"
   ]
  },
  {
   "cell_type": "markdown",
   "id": "133d8534",
   "metadata": {},
   "source": [
    "**TO-DO A6**"
   ]
  },
  {
   "cell_type": "code",
   "execution_count": 8,
   "id": "6e945383-7fb8-4836-a116-3628e2bc8dd3",
   "metadata": {},
   "outputs": [],
   "source": [
    "# edit function created in A4 so that the argument opt is used to remove outliers (or not)\n",
    "# following instructions in the handout. Edit your code in the TO-DO A4 cell\n",
    "\n",
    "def get_basic_plots(country, var, opt):\n",
    "    if ops == False:\n",
    "        df_y = df.loc[df[\"location\"] == country]\n",
    "        df_y.hist(column=var, bins=20)\n",
    "        plt.savefig(f\"{country}-{var}-histogram.png\")\n",
    "        plt.close()\n",
    "    \n",
    "        df_y = df.loc[df[\"location\"] == country]\n",
    "        df_y.boxplot(column=var)\n",
    "        plt.savefig(f\"{country}-{var}-boxplot.png\")\n",
    "        plt.close()\n",
    "    else:\n",
    "        fixed.boxplot(x= remove_outliers(df_xlast6months_country,var)[var])\n",
    "        df_y = df.loc[df[\"location\"] == country]\n",
    "        df_y.hist(column=var, bins=20)\n",
    "        plt.savefig(f\"{country}-{var}-histogram.png\")\n",
    "        plt.close()\n",
    "    \n",
    "        df_y = df.loc[df[\"location\"] == country]\n",
    "        df_y.boxplot(column=var)\n",
    "        plt.savefig(f\"{country}-{var}-boxplot.png\")\n",
    "        plt.close()"
   ]
  },
  {
   "cell_type": "markdown",
   "id": "e1169180",
   "metadata": {},
   "source": [
    "**TO-DO A7**"
   ]
  },
  {
   "cell_type": "markdown",
   "id": "a5d74671-7655-4c18-b430-fcc6c3be4de0",
   "metadata": {},
   "source": [
    "Your analysis here "
   ]
  },
  {
   "cell_type": "markdown",
   "id": "ff699bee",
   "metadata": {},
   "source": [
    "**TO-DO A8**"
   ]
  },
  {
   "cell_type": "code",
   "execution_count": 13,
   "id": "2b36ea51-accb-4d04-b1a2-80554487b2fb",
   "metadata": {},
   "outputs": [],
   "source": [
    "# adding extra columns to the dataframe with normalised data for new_cases and new_deaths\n",
    "\n",
    "# Your code here\n",
    "\n"
   ]
  },
  {
   "cell_type": "markdown",
   "id": "12cc7402",
   "metadata": {},
   "source": [
    "Your analysis here"
   ]
  }
 ],
 "metadata": {
  "kernelspec": {
   "display_name": "Python 3 (ipykernel)",
   "language": "python",
   "name": "python3"
  },
  "language_info": {
   "codemirror_mode": {
    "name": "ipython",
    "version": 3
   },
   "file_extension": ".py",
   "mimetype": "text/x-python",
   "name": "python",
   "nbconvert_exporter": "python",
   "pygments_lexer": "ipython3",
   "version": "3.10.7"
  }
 },
 "nbformat": 4,
 "nbformat_minor": 5
}
